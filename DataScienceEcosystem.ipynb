{
 "cells": [
  {
   "cell_type": "markdown",
   "id": "f85d412b-2215-447a-8532-891f24c2cb50",
   "metadata": {},
   "source": [
    "# Data Science Tools and Ecosystems\n"
   ]
  },
  {
   "cell_type": "markdown",
   "id": "16d241f4-ee26-4a12-a5be-299baf91b7e9",
   "metadata": {},
   "source": [
    "In this notebook, Data Science Tools and Ecosystem are summarized."
   ]
  },
  {
   "cell_type": "markdown",
   "id": "7646be56-7e83-485a-9843-182a265246ec",
   "metadata": {
    "tags": []
   },
   "source": [
    "_Objectives:_\n",
    "- List popular languages for Data Science.\n",
    "- List popular data science tools for Data Science.\n",
    "- List popular libraries for Data Science.\n",
    "\n",
    "\n",
    "\n",
    "\n",
    "\n"
   ]
  },
  {
   "cell_type": "markdown",
   "id": "226fcf43-26dc-4d4a-bb6a-c6d4e485951a",
   "metadata": {},
   "source": [
    "Some of the popular languages that Data Scientists use are:\n",
    "    "
   ]
  },
  {
   "cell_type": "markdown",
   "id": "ee112a10-f3ab-47f7-b227-9aec432e9f6e",
   "metadata": {},
   "source": [
    "1. Python\n",
    "2. R\n",
    "3. SQL\n",
    "\n"
   ]
  },
  {
   "cell_type": "markdown",
   "id": "f460b866-0734-477f-886b-cb21d1aa76a6",
   "metadata": {},
   "source": [
    "Some of the commonly used libraries used by Data Scientists include:\n"
   ]
  },
  {
   "cell_type": "markdown",
   "id": "5ea4ff5c-c2dd-41d9-b4c0-0ff82da91912",
   "metadata": {},
   "source": [
    "1. Pandas\n",
    "2. NumPy\n",
    "3. Matplotlib\n",
    "4. Seaborn"
   ]
  },
  {
   "cell_type": "markdown",
   "id": "bc25d805-5e21-466a-b80a-c43d33e82e37",
   "metadata": {},
   "source": [
    "| Data Science Tools |\n",
    "-----------------------\n",
    "| Apache Hadoop |\n",
    "| Apache Hive |\n",
    "|Apache Spark |\n"
   ]
  },
  {
   "cell_type": "markdown",
   "id": "281e0b65-2053-4acb-8c9f-48699b2f6791",
   "metadata": {},
   "source": [
    "### Below are a few examples of evaluating arithmetic expressions in Python."
   ]
  },
  {
   "cell_type": "code",
   "execution_count": 1,
   "id": "383b5c17-e738-4748-a6b6-a0087dc76bd5",
   "metadata": {
    "tags": []
   },
   "outputs": [
    {
     "data": {
      "text/plain": [
       "17"
      ]
     },
     "execution_count": 1,
     "metadata": {},
     "output_type": "execute_result"
    }
   ],
   "source": [
    "(3*4)+5\n"
   ]
  },
  {
   "cell_type": "markdown",
   "id": "6ce78a71-43de-407f-92c8-567b899c7a6f",
   "metadata": {},
   "source": [
    "This will convert 200 minutes to hours by diving by 60."
   ]
  },
  {
   "cell_type": "code",
   "execution_count": 3,
   "id": "3c8e83ce-1161-48e1-a9c0-0f2a4fb5b562",
   "metadata": {
    "tags": []
   },
   "outputs": [
    {
     "name": "stdout",
     "output_type": "stream",
     "text": [
      "3.3333333333333335\n"
     ]
    }
   ],
   "source": [
    "min=200\n",
    "hr=(min/60)\n",
    "print(hr)\n",
    "\n"
   ]
  },
  {
   "cell_type": "markdown",
   "id": "e2c172a0-95dc-437c-900b-a59687995ccf",
   "metadata": {},
   "source": [
    "## Author \n",
    "Manish Yadav\n"
   ]
  },
  {
   "cell_type": "code",
   "execution_count": null,
   "id": "c33f9602-ca94-4d8e-bf47-7948bed82b77",
   "metadata": {},
   "outputs": [],
   "source": []
  }
 ],
 "metadata": {
  "kernelspec": {
   "display_name": "Python",
   "language": "python",
   "name": "conda-env-python-py"
  },
  "language_info": {
   "codemirror_mode": {
    "name": "ipython",
    "version": 3
   },
   "file_extension": ".py",
   "mimetype": "text/x-python",
   "name": "python",
   "nbconvert_exporter": "python",
   "pygments_lexer": "ipython3",
   "version": "3.7.12"
  }
 },
 "nbformat": 4,
 "nbformat_minor": 5
}
